{
  "cells": [
    {
      "cell_type": "markdown",
      "metadata": {
        "id": "qxah03ikONCD"
      },
      "source": [
        "# Sobre o notebook\n",
        "\n",
        "Aproveite esse espaço para as atividades do curso de **IA aplicada a Data Science: utilizando IA na construção de visualização de dados** da Alura. Aqui você pode escrever e testar os códigos dos diversos exercícios do **Mão na Massa** envolvendo os aprendizados de cada aula.\n",
        "\n",
        "Este notebook foi construído com espaços para adicionar o prompt que será utilizado para criar o código pelo ChatGPT e as células dos desafios propostos no curso, com eles você tem espaço para construir e executar suas soluções.\n"
      ]
    },
    {
      "cell_type": "markdown",
      "metadata": {
        "id": "9M93PiA1pYnK"
      },
      "source": [
        "Logo abaixo, temos as url's onde estão localizadas as bases utilizadas no projeto juntamente com a url com dados que utilizaremos também no desafio"
      ]
    },
    {
      "cell_type": "code",
      "execution_count": 1,
      "metadata": {
        "id": "MFNX_9z0pYnK"
      },
      "outputs": [],
      "source": [
        "url_clientes = \"https://raw.githubusercontent.com/alura-cursos/ia-datascience-dataviz/main/dados/zoop_clientes.csv\"\n",
        "url_vendas = \"https://raw.githubusercontent.com/alura-cursos/ia-datascience-dataviz/main/dados/zoop_vendas.csv\"\n",
        "url_zoop_pay = \"https://raw.githubusercontent.com/alura-cursos/ia-datascience-dataviz/main/dados/cadastro_zoop_pay.csv\""
      ]
    },
    {
      "cell_type": "markdown",
      "metadata": {
        "id": "IA3M1eso_L2Z"
      },
      "source": [
        "## Aula 01 - Conhecendo os dados"
      ]
    },
    {
      "cell_type": "markdown",
      "metadata": {
        "id": "AmpR_VE4CImQ"
      },
      "source": [
        "### Mão na Massa - Zoop Pay"
      ]
    },
    {
      "cell_type": "markdown",
      "metadata": {
        "id": "tR8NdKGYpYnN"
      },
      "source": [
        "> #### <strong><font color=\"#203f75\" size= 6>Prompt:</font></strong>\n",
        "\n",
        "Vamos atuar como analista de dados de um e-commerce. Recebemos três bases de dados com os dados dos clientes e vendas em 2023 e quais clientes estão pré-cadastrados na Zoop Pay, respectivamente.\n",
        "\n",
        "Vamos iniciar unindo as duas primeiras bases do nosso projeto (\"vendas\" e \"clientes\") em um DataFrame chamado \"df\" utilizando como chave a coluna \"ID_compra\". Além disso, vamos organizar as colunas na seguinte sequência:\n",
        "\n",
        "[\"ID_compra\", \"data\", \"horario\", \"categoria\", \"preco_unitario\", \"quantidade\", \"frete\", \"metodo_pagamento\", \"ID_cliente\", \"idade\", \"sexo_biologico\", \"cidade\", \"uf\", \"regiao\", \"cashback\", \"avaliacao_compra\" ]\n",
        "\n",
        "Construa um código para executar esta etapa usando o Python e a biblioteca Pandas."
      ]
    },
    {
      "cell_type": "code",
      "execution_count": 2,
      "metadata": {
        "colab": {
          "base_uri": "https://localhost:8080/",
          "height": 382
        },
        "id": "ZruvypSoO6oP",
        "outputId": "8d5427b5-caa3-429f-e23b-eaf494879acd"
      },
      "outputs": [
        {
          "data": {
            "text/html": [
              "<div>\n",
              "<style scoped>\n",
              "    .dataframe tbody tr th:only-of-type {\n",
              "        vertical-align: middle;\n",
              "    }\n",
              "\n",
              "    .dataframe tbody tr th {\n",
              "        vertical-align: top;\n",
              "    }\n",
              "\n",
              "    .dataframe thead th {\n",
              "        text-align: right;\n",
              "    }\n",
              "</style>\n",
              "<table border=\"1\" class=\"dataframe\">\n",
              "  <thead>\n",
              "    <tr style=\"text-align: right;\">\n",
              "      <th></th>\n",
              "      <th>ID_compra</th>\n",
              "      <th>data</th>\n",
              "      <th>horario</th>\n",
              "      <th>categoria</th>\n",
              "      <th>preco_unitario</th>\n",
              "      <th>quantidade</th>\n",
              "      <th>frete</th>\n",
              "      <th>metodo_pagamento</th>\n",
              "      <th>ID_cliente</th>\n",
              "      <th>idade</th>\n",
              "      <th>sexo_biologico</th>\n",
              "      <th>cidade</th>\n",
              "      <th>uf</th>\n",
              "      <th>regiao</th>\n",
              "      <th>cashback</th>\n",
              "      <th>avaliacao_compra</th>\n",
              "    </tr>\n",
              "  </thead>\n",
              "  <tbody>\n",
              "    <tr>\n",
              "      <th>0</th>\n",
              "      <td>6</td>\n",
              "      <td>2023-01-03</td>\n",
              "      <td>20:40</td>\n",
              "      <td>Eletrônicos</td>\n",
              "      <td>4457.9</td>\n",
              "      <td>4</td>\n",
              "      <td>713.26</td>\n",
              "      <td>Boleto</td>\n",
              "      <td>6149</td>\n",
              "      <td>30</td>\n",
              "      <td>Masculino</td>\n",
              "      <td>Porto Alegre</td>\n",
              "      <td>Rio Grande do Sul</td>\n",
              "      <td>Sul</td>\n",
              "      <td>Sim</td>\n",
              "      <td>10</td>\n",
              "    </tr>\n",
              "    <tr>\n",
              "      <th>1</th>\n",
              "      <td>5</td>\n",
              "      <td>2023-01-03</td>\n",
              "      <td>21:48</td>\n",
              "      <td>Ferramentas e construção</td>\n",
              "      <td>115.9</td>\n",
              "      <td>1</td>\n",
              "      <td>0.00</td>\n",
              "      <td>PIX</td>\n",
              "      <td>9491</td>\n",
              "      <td>36</td>\n",
              "      <td>Masculino</td>\n",
              "      <td>São Paulo</td>\n",
              "      <td>São Paulo</td>\n",
              "      <td>Sudeste</td>\n",
              "      <td>Sim</td>\n",
              "      <td>8</td>\n",
              "    </tr>\n",
              "    <tr>\n",
              "      <th>2</th>\n",
              "      <td>9</td>\n",
              "      <td>2023-01-03</td>\n",
              "      <td>17:08</td>\n",
              "      <td>Beleza e cuidados pessoais</td>\n",
              "      <td>68.9</td>\n",
              "      <td>2</td>\n",
              "      <td>13.78</td>\n",
              "      <td>Cartão de Crédito</td>\n",
              "      <td>5288</td>\n",
              "      <td>39</td>\n",
              "      <td>Feminino</td>\n",
              "      <td>Porto Velho</td>\n",
              "      <td>Rondônia</td>\n",
              "      <td>Norte</td>\n",
              "      <td>Não</td>\n",
              "      <td>7</td>\n",
              "    </tr>\n",
              "    <tr>\n",
              "      <th>3</th>\n",
              "      <td>4</td>\n",
              "      <td>2023-01-03</td>\n",
              "      <td>14:29</td>\n",
              "      <td>Ferramentas e construção</td>\n",
              "      <td>80.9</td>\n",
              "      <td>5</td>\n",
              "      <td>40.45</td>\n",
              "      <td>PIX</td>\n",
              "      <td>9679</td>\n",
              "      <td>35</td>\n",
              "      <td>Masculino</td>\n",
              "      <td>Recife</td>\n",
              "      <td>Pernambuco</td>\n",
              "      <td>Nordeste</td>\n",
              "      <td>Sim</td>\n",
              "      <td>9</td>\n",
              "    </tr>\n",
              "    <tr>\n",
              "      <th>4</th>\n",
              "      <td>8</td>\n",
              "      <td>2023-01-03</td>\n",
              "      <td>18:02</td>\n",
              "      <td>Beleza e cuidados pessoais</td>\n",
              "      <td>165.0</td>\n",
              "      <td>4</td>\n",
              "      <td>0.00</td>\n",
              "      <td>PIX</td>\n",
              "      <td>1380</td>\n",
              "      <td>50</td>\n",
              "      <td>Masculino</td>\n",
              "      <td>São Paulo</td>\n",
              "      <td>São Paulo</td>\n",
              "      <td>Sudeste</td>\n",
              "      <td>Não</td>\n",
              "      <td>9</td>\n",
              "    </tr>\n",
              "  </tbody>\n",
              "</table>\n",
              "</div>"
            ],
            "text/plain": [
              "   ID_compra        data horario                   categoria  preco_unitario  \\\n",
              "0          6  2023-01-03   20:40                 Eletrônicos          4457.9   \n",
              "1          5  2023-01-03   21:48    Ferramentas e construção           115.9   \n",
              "2          9  2023-01-03   17:08  Beleza e cuidados pessoais            68.9   \n",
              "3          4  2023-01-03   14:29    Ferramentas e construção            80.9   \n",
              "4          8  2023-01-03   18:02  Beleza e cuidados pessoais           165.0   \n",
              "\n",
              "   quantidade   frete   metodo_pagamento  ID_cliente  idade sexo_biologico  \\\n",
              "0           4  713.26             Boleto        6149     30      Masculino   \n",
              "1           1    0.00                PIX        9491     36      Masculino   \n",
              "2           2   13.78  Cartão de Crédito        5288     39       Feminino   \n",
              "3           5   40.45                PIX        9679     35      Masculino   \n",
              "4           4    0.00                PIX        1380     50      Masculino   \n",
              "\n",
              "         cidade                 uf    regiao cashback  avaliacao_compra  \n",
              "0  Porto Alegre  Rio Grande do Sul       Sul      Sim                10  \n",
              "1     São Paulo          São Paulo   Sudeste      Sim                 8  \n",
              "2   Porto Velho           Rondônia     Norte      Não                 7  \n",
              "3        Recife         Pernambuco  Nordeste      Sim                 9  \n",
              "4     São Paulo          São Paulo   Sudeste      Não                 9  "
            ]
          },
          "execution_count": 2,
          "metadata": {},
          "output_type": "execute_result"
        }
      ],
      "source": [
        "import pandas as pd\n",
        "\n",
        "# Exemplo de como carregar os DataFrames, caso necessário:\n",
        "vendas = pd.read_csv(url_vendas)\n",
        "clientes = pd.read_csv(url_clientes)\n",
        "\n",
        "# Unindo as bases \"vendas\" e \"clientes\" usando a coluna \"ID_compra\" como chave\n",
        "df = pd.merge(vendas, clientes, on=\"ID_compra\")\n",
        "\n",
        "# Organizando as colunas na sequência especificada\n",
        "colunas_ordenadas = [\"ID_compra\", \"data\", \"horario\", \"categoria\", \"preco_unitario\", \"quantidade\", \"frete\", \"metodo_pagamento\", \"ID_cliente\", \"idade\", \"sexo_biologico\", \"cidade\", \"uf\", \"regiao\", \"cashback\", \"avaliacao_compra\" ]\n",
        "\n",
        "df = df[colunas_ordenadas]\n",
        "\n",
        "# Exibindo as primeiras linhas do DataFrame resultante para verificação\n",
        "df.head()"
      ]
    },
    {
      "cell_type": "markdown",
      "metadata": {
        "id": "41p9BUkYpYnN"
      },
      "source": [
        "> #### <strong><font color=\"#203f75\" size= 6>Prompt:</font></strong>\n",
        "\n",
        "Escreva aqui o prompt que você utilizou para gerar o código do desafio!\n",
        "\n",
        "Agora, vamos unir o \"df\" com a base \"zoop_pay\", lida a partir da url \"url_zoop_pay\", gerando um novo \"df\". Para união das bases, utilizaremos a coluna \"ID_cliente\". Além disso, vamos ajustar a coluna \"data\" para o formato datetime, em que seu formato na base de dados está como \"YYYY-MM-DD\"."
      ]
    },
    {
      "cell_type": "code",
      "execution_count": 3,
      "metadata": {
        "colab": {
          "base_uri": "https://localhost:8080/",
          "height": 365
        },
        "id": "wN0_cal1O6FJ",
        "outputId": "38140dfd-3f53-451d-c0ca-577a6c91ab57"
      },
      "outputs": [
        {
          "data": {
            "text/html": [
              "<div>\n",
              "<style scoped>\n",
              "    .dataframe tbody tr th:only-of-type {\n",
              "        vertical-align: middle;\n",
              "    }\n",
              "\n",
              "    .dataframe tbody tr th {\n",
              "        vertical-align: top;\n",
              "    }\n",
              "\n",
              "    .dataframe thead th {\n",
              "        text-align: right;\n",
              "    }\n",
              "</style>\n",
              "<table border=\"1\" class=\"dataframe\">\n",
              "  <thead>\n",
              "    <tr style=\"text-align: right;\">\n",
              "      <th></th>\n",
              "      <th>ID_compra</th>\n",
              "      <th>data</th>\n",
              "      <th>horario</th>\n",
              "      <th>categoria</th>\n",
              "      <th>preco_unitario</th>\n",
              "      <th>quantidade</th>\n",
              "      <th>frete</th>\n",
              "      <th>metodo_pagamento</th>\n",
              "      <th>ID_cliente</th>\n",
              "      <th>idade</th>\n",
              "      <th>sexo_biologico</th>\n",
              "      <th>cidade</th>\n",
              "      <th>uf</th>\n",
              "      <th>regiao</th>\n",
              "      <th>cashback</th>\n",
              "      <th>avaliacao_compra</th>\n",
              "      <th>zoop_pay</th>\n",
              "    </tr>\n",
              "  </thead>\n",
              "  <tbody>\n",
              "    <tr>\n",
              "      <th>0</th>\n",
              "      <td>6</td>\n",
              "      <td>2023-01-03</td>\n",
              "      <td>20:40</td>\n",
              "      <td>Eletrônicos</td>\n",
              "      <td>4457.9</td>\n",
              "      <td>4</td>\n",
              "      <td>713.26</td>\n",
              "      <td>Boleto</td>\n",
              "      <td>6149</td>\n",
              "      <td>30</td>\n",
              "      <td>Masculino</td>\n",
              "      <td>Porto Alegre</td>\n",
              "      <td>Rio Grande do Sul</td>\n",
              "      <td>Sul</td>\n",
              "      <td>Sim</td>\n",
              "      <td>10</td>\n",
              "      <td>Não</td>\n",
              "    </tr>\n",
              "    <tr>\n",
              "      <th>1</th>\n",
              "      <td>2467</td>\n",
              "      <td>2023-08-02</td>\n",
              "      <td>17:10</td>\n",
              "      <td>Alimentos e bebidas</td>\n",
              "      <td>13.9</td>\n",
              "      <td>1</td>\n",
              "      <td>0.97</td>\n",
              "      <td>PIX</td>\n",
              "      <td>6149</td>\n",
              "      <td>30</td>\n",
              "      <td>Masculino</td>\n",
              "      <td>Porto Alegre</td>\n",
              "      <td>Rio Grande do Sul</td>\n",
              "      <td>Sul</td>\n",
              "      <td>Sim</td>\n",
              "      <td>8</td>\n",
              "      <td>Não</td>\n",
              "    </tr>\n",
              "    <tr>\n",
              "      <th>2</th>\n",
              "      <td>5</td>\n",
              "      <td>2023-01-03</td>\n",
              "      <td>21:48</td>\n",
              "      <td>Ferramentas e construção</td>\n",
              "      <td>115.9</td>\n",
              "      <td>1</td>\n",
              "      <td>0.00</td>\n",
              "      <td>PIX</td>\n",
              "      <td>9491</td>\n",
              "      <td>36</td>\n",
              "      <td>Masculino</td>\n",
              "      <td>São Paulo</td>\n",
              "      <td>São Paulo</td>\n",
              "      <td>Sudeste</td>\n",
              "      <td>Sim</td>\n",
              "      <td>8</td>\n",
              "      <td>Sim</td>\n",
              "    </tr>\n",
              "    <tr>\n",
              "      <th>3</th>\n",
              "      <td>9</td>\n",
              "      <td>2023-01-03</td>\n",
              "      <td>17:08</td>\n",
              "      <td>Beleza e cuidados pessoais</td>\n",
              "      <td>68.9</td>\n",
              "      <td>2</td>\n",
              "      <td>13.78</td>\n",
              "      <td>Cartão de Crédito</td>\n",
              "      <td>5288</td>\n",
              "      <td>39</td>\n",
              "      <td>Feminino</td>\n",
              "      <td>Porto Velho</td>\n",
              "      <td>Rondônia</td>\n",
              "      <td>Norte</td>\n",
              "      <td>Não</td>\n",
              "      <td>7</td>\n",
              "      <td>Não</td>\n",
              "    </tr>\n",
              "    <tr>\n",
              "      <th>4</th>\n",
              "      <td>4</td>\n",
              "      <td>2023-01-03</td>\n",
              "      <td>14:29</td>\n",
              "      <td>Ferramentas e construção</td>\n",
              "      <td>80.9</td>\n",
              "      <td>5</td>\n",
              "      <td>40.45</td>\n",
              "      <td>PIX</td>\n",
              "      <td>9679</td>\n",
              "      <td>35</td>\n",
              "      <td>Masculino</td>\n",
              "      <td>Recife</td>\n",
              "      <td>Pernambuco</td>\n",
              "      <td>Nordeste</td>\n",
              "      <td>Sim</td>\n",
              "      <td>9</td>\n",
              "      <td>Sim</td>\n",
              "    </tr>\n",
              "  </tbody>\n",
              "</table>\n",
              "</div>"
            ],
            "text/plain": [
              "   ID_compra       data horario                   categoria  preco_unitario  \\\n",
              "0          6 2023-01-03   20:40                 Eletrônicos          4457.9   \n",
              "1       2467 2023-08-02   17:10         Alimentos e bebidas            13.9   \n",
              "2          5 2023-01-03   21:48    Ferramentas e construção           115.9   \n",
              "3          9 2023-01-03   17:08  Beleza e cuidados pessoais            68.9   \n",
              "4          4 2023-01-03   14:29    Ferramentas e construção            80.9   \n",
              "\n",
              "   quantidade   frete   metodo_pagamento  ID_cliente  idade sexo_biologico  \\\n",
              "0           4  713.26             Boleto        6149     30      Masculino   \n",
              "1           1    0.97                PIX        6149     30      Masculino   \n",
              "2           1    0.00                PIX        9491     36      Masculino   \n",
              "3           2   13.78  Cartão de Crédito        5288     39       Feminino   \n",
              "4           5   40.45                PIX        9679     35      Masculino   \n",
              "\n",
              "         cidade                 uf    regiao cashback  avaliacao_compra  \\\n",
              "0  Porto Alegre  Rio Grande do Sul       Sul      Sim                10   \n",
              "1  Porto Alegre  Rio Grande do Sul       Sul      Sim                 8   \n",
              "2     São Paulo          São Paulo   Sudeste      Sim                 8   \n",
              "3   Porto Velho           Rondônia     Norte      Não                 7   \n",
              "4        Recife         Pernambuco  Nordeste      Sim                 9   \n",
              "\n",
              "  zoop_pay  \n",
              "0      Não  \n",
              "1      Não  \n",
              "2      Sim  \n",
              "3      Não  \n",
              "4      Sim  "
            ]
          },
          "execution_count": 3,
          "metadata": {},
          "output_type": "execute_result"
        }
      ],
      "source": [
        "# Substitua url_zoop_pay pela URL real fornecida para a base zoop_pay\n",
        "zoop_pay = pd.read_csv(url_zoop_pay)\n",
        "\n",
        "# Unindo o DataFrame df com a base zoop_pay utilizando a coluna \"ID_cliente\"\n",
        "df = pd.merge(df, zoop_pay, on=\"ID_cliente\")\n",
        "\n",
        "# Ajustando a coluna \"data\" para o formato datetime\n",
        "df['data'] = pd.to_datetime(df['data'], format='%Y-%m-%d')\n",
        "\n",
        "# Exibindo as primeiras linhas do DataFrame resultante para verificação\n",
        "df.head()"
      ]
    },
    {
      "cell_type": "markdown",
      "metadata": {
        "id": "ix1N_JAH_T1C"
      },
      "source": [
        "## Aula 02 - Visualizando os dados"
      ]
    },
    {
      "cell_type": "markdown",
      "metadata": {
        "id": "1sZUt4Nk_scq"
      },
      "source": [
        "### Mão na Massa - Gerando visuais em relação a localidade"
      ]
    },
    {
      "cell_type": "markdown",
      "metadata": {
        "id": "URModKRcpYnP"
      },
      "source": [
        "#### Desafio 1:"
      ]
    },
    {
      "cell_type": "markdown",
      "metadata": {
        "id": "V1RZr9bbpYnP"
      },
      "source": [
        "> #### <strong><font color=\"#203f75\" size= 6>Prompt:</font></strong>\n",
        "\n",
        "\n",
        "Temos um DataFrame chamado \"df\" e queremos construir um visual de gráfico de colunas que apresente o faturamento por região da Zoop.\n",
        "\n",
        "Em \"df\", temos as colunas:\n",
        "\n",
        "regiao: regiao do(a) cliente\n",
        "preco_unitario: preço de uma unidade do produto\n",
        "quantidade: quantidade vendida do produto\n",
        "frete: frete a ser pago no total da compra.\n",
        "Desejamos criar uma visualização que apresente o faturamento de cada região, em que o faturamento é dado pelo produto entre o preço unitário e a quantidade somadas ao frete.\n",
        "\n",
        "Utilize as bibliotecas de visualização de dados do Python para criar essa visualização."
      ]
    },
    {
      "cell_type": "code",
      "execution_count": 4,
      "metadata": {
        "colab": {
          "base_uri": "https://localhost:8080/",
          "height": 564
        },
        "id": "EQ2k1j6f_scv",
        "outputId": "163561e9-2f67-41a2-806b-ced807ed5827"
      },
      "outputs": [
        {
          "data": {
            "image/png": "[encoded data removed]",
            "text/plain": [
              "<Figure size 720x432 with 1 Axes>"
            ]
          },
          "metadata": {
            "needs_background": "light"
          },
          "output_type": "display_data"
        }
      ],
      "source": [
        "import matplotlib.pyplot as plt\n",
        "\n",
        "# Supondo que df seja o seu DataFrame\n",
        "# Calcula o faturamento para cada transação\n",
        "df['faturamento'] = (df['preco_unitario'] * df['quantidade']) + df['frete']\n",
        "\n",
        "# Agrupa os dados por região e soma o faturamento\n",
        "faturamento_por_regiao = df.groupby('regiao')['faturamento'].sum().reset_index()\n",
        "\n",
        "# Ordena o resultado para melhor visualização\n",
        "faturamento_por_regiao = faturamento_por_regiao.sort_values(by='faturamento', ascending=False)\n",
        "\n",
        "# Criação do gráfico de colunas\n",
        "plt.figure(figsize=(10, 6))  # Ajusta o tamanho do gráfico\n",
        "plt.bar(faturamento_por_regiao['regiao'], faturamento_por_regiao['faturamento'], color='skyblue')  # Plota o gráfico de barras\n",
        "plt.title('Faturamento por Região')  # Adiciona título ao gráfico\n",
        "plt.xlabel('Região')  # Adiciona rótulo ao eixo X\n",
        "plt.ylabel('Faturamento')  # Adiciona rótulo ao eixo Y\n",
        "plt.show()  # Exibe o gráfico"
      ]
    },
    {
      "cell_type": "markdown",
      "metadata": {
        "id": "aeRf_Q2ZpYnQ"
      },
      "source": [
        "#### Desafio 2:"
      ]
    },
    {
      "cell_type": "markdown",
      "metadata": {
        "id": "0FhaOLbjpYnQ"
      },
      "source": [
        "> #### <strong><font color=\"#203f75\" size= 6>Prompt:</font></strong>\n",
        "\n",
        "\n",
        "Temos um DataFrame chamado \"df\" e queremos construir um visual de colunas empilhadas que apresente a quantidade de pessoas por sexo biológico em relação aos estados de \"São Paulo\" e \"Rio de Janeiro\".\n",
        "\n",
        "Em \"df\", temos as colunas:\n",
        "\n",
        "uf: unidade federativa (estado) do(a) cliente. Vamos utilizar apenas os estados de \"São Paulo\" e \"Rio de Janeiro\"\n",
        "sexo_biologico: sexo biológico do(a) cliente\n",
        "Desejamos criar uma visualização que apresente a quantidade de pessoas agrupadas por sexo biológico nos estados que definimos.\n",
        "\n",
        "Utilize as bibliotecas de visualização de dados do Python para criar essa visualização."
      ]
    },
    {
      "cell_type": "code",
      "execution_count": 5,
      "metadata": {
        "colab": {
          "base_uri": "https://localhost:8080/",
          "height": 565
        },
        "id": "kz2xGyH0_scv",
        "outputId": "8c343301-b579-4222-8ef3-321e3b960d58"
      },
      "outputs": [
        {
          "data": {
            "image/png": "[encoded data removed]",
            "text/plain": [
              "<Figure size 720x432 with 1 Axes>"
            ]
          },
          "metadata": {
            "needs_background": "light"
          },
          "output_type": "display_data"
        }
      ],
      "source": [
        "# Filtrar o DataFrame para incluir apenas os estados de \"São Paulo\" e \"Rio de Janeiro\"\n",
        "df_filtrado = df[df['uf'].isin(['São Paulo', 'Rio de Janeiro'])]\n",
        "\n",
        "# Contar a quantidade de pessoas por sexo biológico e estado\n",
        "contagem_por_sexo_e_estado = df_filtrado.groupby(['uf', 'sexo_biologico']).size().unstack(fill_value=0)\n",
        "\n",
        "# Criar o gráfico de colunas empilhadas\n",
        "contagem_por_sexo_e_estado.plot(kind='bar', stacked=True, figsize=(10, 6))\n",
        "\n",
        "# Adicionar título e rótulos aos eixos\n",
        "plt.title('Quantidade de Pessoas por Sexo Biológico em São Paulo e Rio de Janeiro')\n",
        "plt.xlabel('Estado')\n",
        "plt.ylabel('Quantidade de Pessoas')\n",
        "plt.xticks(rotation=0)  # Mantém os rótulos dos estados na horizontal para melhor legibilidade\n",
        "\n",
        "# Mostrar a legenda e o gráfico\n",
        "plt.legend(title='Sexo Biológico')\n",
        "plt.show()"
      ]
    },
    {
      "cell_type": "markdown",
      "metadata": {
        "id": "1uTAdILB_T6m"
      },
      "source": [
        "## Aula 03 - Gerando mais visuais"
      ]
    },
    {
      "cell_type": "markdown",
      "metadata": {
        "id": "SsQ3DvzR_t-L"
      },
      "source": [
        "### Mão na Massa - Perfil dos clientes"
      ]
    },
    {
      "cell_type": "markdown",
      "metadata": {
        "id": "OnEkxECtpYnR"
      },
      "source": [
        "#### Desafio 1:"
      ]
    },
    {
      "cell_type": "markdown",
      "metadata": {
        "id": "KZ26lRnLpYnR"
      },
      "source": [
        "> #### <strong><font color=\"#203f75\" size= 6>Prompt:</font></strong>\n",
        "\n",
        "Agora que temos os dados carregados, podemos ver que cada arquivo possui as seguintes informações:\n",
        "\n",
        "cadastro_zoop_pay.csv:\n",
        "\n",
        "* ID_cliente: Identificação do cliente\n",
        "zoop_pay: Indica se o cliente está pré-cadastrado no Zoop Pay (\"Sim\" ou \"Não\")\n",
        "zoop_clientes.csv e zoop_vendas.csv contêm informações adicionais sobre compras e detalhes dos clientes, mas não são necessárias para o desafio atual.\n",
        "\n",
        "Em seguida, vamos criar um gráfico que mostre a proporção de clientes pré-cadastrados no Zoop Pay. Vamos contar quantos clientes estão pré-cadastrados (\"Sim\") versus quantos não estão (\"Não\"). Assim:"
      ]
    },
    {
      "cell_type": "code",
      "execution_count": 6,
      "metadata": {
        "colab": {
          "base_uri": "https://localhost:8080/",
          "height": 525
        },
        "id": "bIoMVk5r_t-Q",
        "outputId": "9f29c6e4-2d05-4fdd-8b27-9765761f5aa6"
      },
      "outputs": [
        {
          "data": {
            "image/png": "[encoded data removed]",
            "text/plain": [
              "<Figure size 576x432 with 1 Axes>"
            ]
          },
          "metadata": {},
          "output_type": "display_data"
        }
      ],
      "source": [
        "# Carregar o DataFrame\n",
        "cadastro_zoop_pay = pd.read_csv(url_zoop_pay)\n",
        "\n",
        "# Contagem de clientes pré-cadastrados no Zoop Pay\n",
        "zoop_pay_counts = cadastro_zoop_pay['zoop_pay'].value_counts()\n",
        "\n",
        "# Criando o gráfico de pizza para mostrar a proporção\n",
        "plt.figure(figsize=(8, 6))\n",
        "plt.pie(zoop_pay_counts, labels=zoop_pay_counts.index, autopct='%1.1f%%', startangle=140, colors=['#4CAF50', '#FFC107'])\n",
        "plt.title('Proporção de Clientes Pré-cadastrados no Zoop Pay')\n",
        "plt.axis('equal')  # Equal aspect ratio ensures that pie is drawn as a circle.\n",
        "plt.show()"
      ]
    },
    {
      "cell_type": "markdown",
      "metadata": {
        "id": "tzgptXqdpYnR"
      },
      "source": [
        "#### Desafio 2:"
      ]
    },
    {
      "cell_type": "markdown",
      "metadata": {
        "id": "TfJDyZxrpYnR"
      },
      "source": [
        "> #### <strong><font color=\"#203f75\" size= 6>Prompt:</font></strong>\n",
        "\n",
        "O gráfico a seguir apresenta a distribuição das idades dos clientes da Zoop por região. Este tipo de visual é útil para entender as variações e tendências da idade dos clientes em diferentes partes do país, ajudando a empresa a definir personas ou perfis de cliente para estratégias de marketing e produtos regionalizados."
      ]
    },
    {
      "cell_type": "code",
      "execution_count": 8,
      "metadata": {
        "colab": {
          "base_uri": "https://localhost:8080/",
          "height": 805
        },
        "id": "481jyhembJ2V",
        "outputId": "4625ad05-f814-41c7-9777-ec4901c997b5"
      },
      "outputs": [
        {
          "data": {
            "image/png": "[encoded data removed]",
            "text/plain": [
              "<Figure size 864x576 with 1 Axes>"
            ]
          },
          "metadata": {
            "needs_background": "light"
          },
          "output_type": "display_data"
        }
      ],
      "source": [
        "import seaborn as sns\n",
        "\n",
        "# Criação do boxplot\n",
        "plt.figure(figsize=(12, 8))  # Define o tamanho do gráfico\n",
        "boxplot = sns.boxplot(x='idade', y='regiao', data=df, palette=\"colorblind\")  # Cria o boxplot\n",
        "\n",
        "# Adiciona títulos e rótulos aos eixos\n",
        "plt.title('Distribuição das Idades dos Clientes por Região')  # Título do gráfico\n",
        "plt.xlabel('Idade')  # Rótulo do eixo X\n",
        "plt.ylabel('Região')  # Rótulo do eixo Y\n",
        "\n",
        "# Exibe o gráfico\n",
        "plt.show()"
      ]
    },
    {
      "cell_type": "markdown",
      "metadata": {
        "id": "cwWwyLvcbaAX"
      },
      "source": [
        "Este gráfico de caixa (boxplot) fornece uma visão clara das medianas, quartis e possíveis outliers nas idades dos clientes em cada região, o que pode ajudar a Zoop a afinar suas campanhas e produtos para cada mercado específico.\n"
      ]
    },
    {
      "cell_type": "markdown",
      "metadata": {
        "id": "i_X1NcH9_T-u"
      },
      "source": [
        "## Aula 04 - Técnicas de storytelling"
      ]
    },
    {
      "cell_type": "markdown",
      "metadata": {
        "id": "nDiBbHZxpYnS"
      },
      "source": [
        "### Paleta de Cores"
      ]
    },
    {
      "cell_type": "markdown",
      "metadata": {
        "id": "k6opjYCHpYnS"
      },
      "source": [
        "Vamos compartilhar aqui a paleta de cores que usamos durante o curso pra você executar e usar em seu projeto, mas sinta-se livre para construir a sua própria."
      ]
    },
    {
      "cell_type": "code",
      "execution_count": 9,
      "metadata": {
        "id": "1yFpjTEipYnS"
      },
      "outputs": [],
      "source": [
        "# Adicionando as cores como variáveis do projeto\n",
        "VERMELHO_1,\tVERMELHO_2,\tVERMELHO_3 = \"#e23155\",\t\"#cc2c4e\", \"#b32742\"\n",
        "AZUL_1,\tAZUL_2,\tAZUL_3 = \"#203f75\",\t\"#1c3867\", \"#19325b\"\n",
        "BRANCO,\tCINZA_1, CINZA_2, CINZA_3, CINZA_4,\tCINZA_5 = \"#ffffff\", \"#ebebeb\",\t\"#d9d9d9\", \"#cccccc\", \"#555655\", \"#231f20\"\n",
        "AQUA_1,\tAQUA_2,\tAQUA_3 = \"#addcd4\",\t\"#9fccc5\", \"#96bfb9\""
      ]
    },
    {
      "cell_type": "markdown",
      "metadata": {
        "id": "jQGogqg0_uiR"
      },
      "source": [
        "### Mão na Massa - Refinando os visuais escolhidos"
      ]
    },
    {
      "cell_type": "markdown",
      "metadata": {
        "id": "AccnxsABpYnT"
      },
      "source": [
        "#### Desafio 1:"
      ]
    },
    {
      "cell_type": "markdown",
      "metadata": {
        "id": "Opy6JIo2pYnT"
      },
      "source": [
        "##### Gráfico sem refinamento"
      ]
    },
    {
      "cell_type": "code",
      "execution_count": 10,
      "metadata": {
        "id": "kHsVLA2b_uiS"
      },
      "outputs": [
        {
          "data": {
            "image/png": "[encoded data removed]",
            "text/plain": [
              "<Figure size 720x432 with 1 Axes>"
            ]
          },
          "metadata": {
            "needs_background": "light"
          },
          "output_type": "display_data"
        }
      ],
      "source": [
        "# Criando o gráfico de barras simples\n",
        "plt.figure(figsize=(10, 6))\n",
        "bars = plt.bar(faturamento_por_regiao['regiao'], faturamento_por_regiao['faturamento']/1e6, color='skyblue')\n",
        "\n",
        "# Configurando cores e estilos do gráfico\n",
        "plt.title('Faturamento por Região em 2023', fontsize=18)\n",
        "plt.xlabel('Região', fontsize=12)\n",
        "plt.ylabel('Faturamento (em milhões)', fontsize=12)\n",
        "plt.xticks(fontsize=12)\n",
        "plt.yticks(fontsize=12)\n",
        "\n",
        "# Mostrar o gráfico\n",
        "plt.show()"
      ]
    },
    {
      "cell_type": "markdown",
      "metadata": {
        "id": "hFgTbe1wpYnT"
      },
      "source": [
        "> #### <strong><font color=\"#203f75\" size= 6>Prompt:</font></strong>\n",
        "\n",
        "Precisamos desenvolver um gráfico de barras para apresentar o faturamento por região em 2023, usando o DataFrame chamado 'faturamento_por_regiao'. As colunas relevantes são \"regiao\", que contém as regiões, e \"faturamento\", que contém os valores de faturamento para cada região, como mostrado neste caderno anteriormente. Precisamos de um gráfico visualmente refinado com as seguintes especificações:\n",
        "\n",
        "Plano de fundo da figura e da área do plot na cor CINZA_1; cor das colunas em AQUA_1 (caso queira destacar apenas uma, pode recorrer ao AQUA_3, por exemplo; tamanho da figura de (10,6); altere o título da figura e seu tamanho para 18 e cor CINZA_5, ajuste os labels e rótulos do eixo x e y quando existirem para tamanho 12 e cor AZUL_1; retire o máximo das bordas possível e ajuste os dados para serem apresentados nas barras na ordem de milhões na cor AZUL_1 e tamanho 12; configuração do tamanho: Ajuste o tamanho da figura para (10, 6) para garantir que o gráfico seja grande o suficiente para uma visualização clara. Cores: use a cor AQUA_1 para todas as colunas do gráfico. No entanto, destaque a coluna com o maior faturamento usando a cor AQUA_3. Fundo do Gráfico: defina a cor de fundo da área do plot e da figura para CINZA_1 para um design mais suave e profissional. Título e Rótulos: Configure o título para 'Faturamento por Região em 2023' com tamanho de fonte 18 e cor CINZA_5. Os rótulos dos eixos devem ser 'Região' para o eixo X e 'Faturamento (milhões)' para o eixo Y, ambos com tamanho de fonte 12 e cor AZUL_1. Configurações dos Eixos: Ajuste o tamanho das fontes dos ticks do eixo X para 12 e cor AZUL_1, e remova completamente os ticks do eixo Y para simplificar o visual. Bordas: Remova todas as bordas desnecessárias do gráfico, exceto a borda inferior, que deve ser colorida em AZUL_1. Valores das Barras: Adicione o valor do faturamento acima de cada barra, convertendo os valores para milhões e formatando-os para uma casa decimal. Esses valores devem ser exibidos na cor AZUL_1 e com tamanho de fonte 12. Utilize as bibliotecas de visualização de dados do Python para criar essa visualização e assegure-se de que o gráfico seja informativo e atraente visualmente.\n"
      ]
    },
    {
      "cell_type": "code",
      "execution_count": 12,
      "metadata": {
        "colab": {
          "base_uri": "https://localhost:8080/",
          "height": 211
        },
        "id": "T1dqk3Al_uiS",
        "outputId": "d5cc1fba-7948-40b7-d4ca-87fb5be0e540"
      },
      "outputs": [
        {
          "data": {
            "image/png": "[encoded data removed]",
            "text/plain": [
              "<Figure size 720x432 with 1 Axes>"
            ]
          },
          "metadata": {},
          "output_type": "display_data"
        }
      ],
      "source": [
        "# Configuração do gráfico refinado\n",
        "plt.figure(figsize=(10, 6))\n",
        "bars = plt.bar(faturamento_por_regiao['regiao'], faturamento_por_regiao['faturamento'], color=AQUA_1)\n",
        "\n",
        "# Destacando a barra com maior faturamento\n",
        "max_value = faturamento_por_regiao['faturamento'].max()\n",
        "for bar in bars:\n",
        "    if bar.get_height() == max_value:\n",
        "        bar.set_color(AQUA_3)\n",
        "\n",
        "# Configurações adicionais do gráfico\n",
        "plt.gca().set_facecolor(CINZA_1)\n",
        "plt.gcf().set_facecolor(CINZA_1)\n",
        "plt.title('Faturamento por Região em 2023', fontsize=18, color=CINZA_5)\n",
        "plt.xlabel('Região', fontsize=12, color=AZUL_1)\n",
        "plt.ylabel('Faturamento (milhões)', fontsize=12, color=AZUL_1)\n",
        "plt.xticks(fontsize=12, color=AZUL_1)\n",
        "plt.yticks([])  # Remover os rótulos do eixo y\n",
        "\n",
        "# Removendo bordas desnecessárias\n",
        "plt.gca().spines['top'].set_visible(False)\n",
        "plt.gca().spines['right'].set_visible(False)\n",
        "plt.gca().spines['left'].set_visible(False)\n",
        "plt.gca().spines['bottom'].set_color(AZUL_1)\n",
        "\n",
        "# Adicionando valores sobre as barras\n",
        "for bar in bars:\n",
        "    plt.text(bar.get_x() + bar.get_width()/2, bar.get_height(), f'{bar.get_height() / 1e6:.1f}M', ha='center', va='bottom', color=AZUL_1, fontsize=12)\n",
        "\n",
        "# Mostrar o gráfico\n",
        "plt.show()"
      ]
    },
    {
      "cell_type": "markdown",
      "metadata": {
        "id": "Nkn5XMKgpYnU"
      },
      "source": [
        "#### Desafio 2:"
      ]
    },
    {
      "cell_type": "markdown",
      "metadata": {
        "id": "TVe2Wy38pYnU"
      },
      "source": [
        "##### Gráfico sem refinamento"
      ]
    },
    {
      "cell_type": "code",
      "execution_count": 13,
      "metadata": {
        "id": "uaVxWWPC_uiS"
      },
      "outputs": [
        {
          "data": {
            "image/png": "[encoded data removed]",
            "text/plain": [
              "<Figure size 432x432 with 1 Axes>"
            ]
          },
          "metadata": {},
          "output_type": "display_data"
        }
      ],
      "source": [
        "# Carregamento do DataFrame\n",
        "url_zoop_pay = \"https://raw.githubusercontent.com/alura-cursos/ia-datascience-dataviz/main/dados/cadastro_zoop_pay.csv\"\n",
        "cadastro_zoop_pay = pd.read_csv(url_zoop_pay)\n",
        "\n",
        "# Contagem de clientes pré-cadastrados no Zoop Pay\n",
        "zoop_pay_counts = cadastro_zoop_pay['zoop_pay'].value_counts()\n",
        "\n",
        "# Criando o gráfico de rosca de forma mais simples\n",
        "plt.figure(figsize=(6, 6))\n",
        "plt.pie(zoop_pay_counts, labels=zoop_pay_counts.index, autopct='%1.1f%%', startangle=100,\n",
        "        colors=['#203f75', '#cccccc'],  # Cores simplificadas sem uso de variáveis\n",
        "        wedgeprops=dict(width=0.6, edgecolor='w'),\n",
        "        textprops={'fontsize': 15})\n",
        "\n",
        "# Título simples sem customização de cor e fonte\n",
        "plt.title('Proporção de Clientes Pré-cadastrados no Zoop Pay')\n",
        "\n",
        "# Mostrar o gráfico\n",
        "plt.show()"
      ]
    },
    {
      "cell_type": "markdown",
      "metadata": {
        "id": "fj9CKanTpYnU"
      },
      "source": [
        "> #### <strong><font color=\"#203f75\" size= 6>Prompt:</font></strong>\n",
        "\n",
        "Precisamos desenvolver um gráfico de rosca para visualizar a proporção de clientes pré-cadastrados no serviço Zoop Pay. Utilize o arquivo cadastro_zoop_pay.csv para carregar os dados, que incluem uma coluna zoop_pay com valores 'Sim' e 'Não' indicando o status de pré-cadastro dos clientes.\n",
        "\n",
        "Especificações do Gráfico:\n",
        "\n",
        "Carregamento dos Dados: Carregue os dados do arquivo CSV disponível no seguinte URL (substitua pelo URL real): \"https://raw.githubusercontent.com/alura-cursos/ia-datascience-dataviz/main/dados/cadastro_zoop_pay.csv\". Conte a quantidade de clientes para cada categoria ('Sim' e 'Não') na coluna zoop_pay.\n",
        "\n",
        "Estilo Visual:\n",
        "\n",
        "Tamanho da Figura: Ajuste o tamanho da figura para (6x6) para facilitar a visualização. Plano de Fundo: Configure o plano de fundo da figura e da área do plot na cor CINZA_1. Cores das Fatias: Utilize a cor AZUL_1 para a fatia que representa 'Sim' e CINZA_3 para 'Não'. Texto e Porcentagens: Os rótulos das fatias devem estar na mesma cor das fatias e com tamanho de fonte 12. As porcentagens devem ser exibidas em negrito, cor BRANCO, e também com tamanho de fonte 12. Posição das Porcentagens: Ajuste as porcentagens para que apareçam na posição 0.8 em relação ao centro da rosca. Configurações Adicionais:\n",
        "\n",
        "Largura da Rosca: Defina a largura da rosca para 0.4 para melhor distinção visual. Título: Adicione um título 'Proporção de Clientes Pré-cadastrados no Zoop Pay', com tamanho de fonte 18 e cor CINZA_5. Bordas: Evite explosões de fatias e remova bordas desnecessárias para simplificar o visual. Objetivo: O objetivo é criar uma visualização informativa e atraente que permita identificar rapidamente a proporção de clientes pré-cadastrados no Zoop Pay. Utilize as bibliotecas de visualização de dados do Python para criar essa visualização."
      ]
    },
    {
      "cell_type": "code",
      "execution_count": 14,
      "metadata": {
        "id": "NNu6JgQgpYnb"
      },
      "outputs": [
        {
          "data": {
            "image/png": "[encoded data removed]",
            "text/plain": [
              "<Figure size 432x432 with 1 Axes>"
            ]
          },
          "metadata": {},
          "output_type": "display_data"
        }
      ],
      "source": [
        "# Suponha que este código seja executado onde 'cadastro_zoop_pay.csv' está acessível\n",
        "url_zoop_pay = \"https://raw.githubusercontent.com/alura-cursos/ia-datascience-dataviz/main/dados/cadastro_zoop_pay.csv\"\n",
        "cadastro_zoop_pay = pd.read_csv(url_zoop_pay)\n",
        "\n",
        "# Contagem de clientes pré-cadastrados no Zoop Pay\n",
        "zoop_pay_counts = cadastro_zoop_pay['zoop_pay'].value_counts()\n",
        "\n",
        "# Criando o gráfico de rosca\n",
        "plt.figure(figsize=(6, 6), facecolor=CINZA_1)\n",
        "wedges, texts, autotexts = plt.pie(zoop_pay_counts, labels=zoop_pay_counts.index, autopct='%1.1f%%', startangle=140, pctdistance=0.8,\n",
        "                                   colors=[AZUL_1 if label == 'Sim' else CINZA_3 for label in zoop_pay_counts.index],\n",
        "                                   wedgeprops=dict(width=0.4, edgecolor='w'))\n",
        "\n",
        "# Configurações adicionais do gráfico\n",
        "plt.title('Proporção de Clientes Pré-cadastrados no Zoop Pay', fontsize=18, color=CINZA_5)\n",
        "\n",
        "# Ajustando os rótulos e as porcentagens\n",
        "for text, autotext in zip(texts, autotexts):\n",
        "    text.set_color(autotext.get_color())  # Rótulos das fatias na mesma cor das fatias\n",
        "    text.set_fontsize(12)\n",
        "    autotext.set_fontsize(12)  # Tamanho dos textos de porcentagem\n",
        "    autotext.set_fontweight('bold')  # Negrito para as porcentagens\n",
        "    autotext.set_color(BRANCO)  # Cor das porcentagens\n",
        "\n",
        "# Mostrar o gráfico\n",
        "plt.show()"
      ]
    }
  ],
  "metadata": {
    "colab": {
      "provenance": []
    },
    "kernelspec": {
      "display_name": "base",
      "language": "python",
      "name": "python3"
    },
    "language_info": {
      "codemirror_mode": {
        "name": "ipython",
        "version": 3
      },
      "file_extension": ".py",
      "mimetype": "text/x-python",
      "name": "python",
      "nbconvert_exporter": "python",
      "pygments_lexer": "ipython3",
      "version": "3.9.7"
    },
    "orig_nbformat": 4
  },
  "nbformat": 4,
  "nbformat_minor": 0
}
